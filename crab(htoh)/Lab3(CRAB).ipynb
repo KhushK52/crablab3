{
 "cells": [
  {
   "cell_type": "code",
   "execution_count": 1,
   "id": "ffb6a3cf-24ba-48f5-9e64-3b4b8517b0f6",
   "metadata": {},
   "outputs": [],
   "source": [
    "import numpy as np\n",
    "import matplotlib.pyplot as plt\n",
    "import time\n",
    "from scipy.optimize import curve_fit\n",
    "from scipy.optimize import leastsq\n",
    "import glob\n",
    "import argparse \n",
    "import threading\n",
    "import glob"
   ]
  },
  {
   "cell_type": "code",
   "execution_count": null,
   "id": "84928298-47e9-41f8-b11b-1cb1e53b6755",
   "metadata": {},
   "outputs": [],
   "source": [
    "files = glob.glob(\"sun30/Sun30newspecs*\")\n",
    "files = sorted(files)\n",
    "\n",
    "specs = {f[:-4]: np.load(f, allow_pickle=True)[\"corr01\"] for f in files}\n",
    "acc_cnt = {f[:-4]: np.load(f, allow_pickle=True)[\"acc_cnt\"] for f in files}\n",
    "times = {f[:-4]: np.load(f, allow_pickle=True)[\"time\"] for f in files}\n",
    "\n",
    "data = []\n",
    "for keys in specs.keys():\n",
    "    data.append(specs[keys])\n",
    "\n",
    "#print(data)\n",
    "timings = []\n",
    "for k in times.keys():\n",
    "    timings.append(times[k])\n",
    "\n",
    "#fdata = data[...,0]+1j*data[...,1]\n",
    "#print(fdata)\n",
    "\n",
    "real = []\n",
    "imagin = []\n",
    "for i in np.arange(len(data)):\n",
    "    real.append(data[i].real)\n",
    "    imagin.append(data[i].imag)\n",
    "\n",
    "data = np.array(data)\n",
    "print(data.shape)"
   ]
  },
  {
   "cell_type": "code",
   "execution_count": null,
   "id": "07ef1a16-ff56-4ba2-9c6e-b50bda0c5fb7",
   "metadata": {},
   "outputs": [],
   "source": [
    "plt.figure(figsize = (12,6))\n",
    "\n",
    "plt.plot(real[50])\n",
    "plt.plot(imagin[50])\n",
    "#plt.ylim(0,50)\n",
    "plt.xlabel(\"Frequency\")\n",
    "plt.ylabel(\"Power\")\n",
    "plt.show;"
   ]
  },
  {
   "cell_type": "code",
   "execution_count": null,
   "id": "d545f986-23d0-40bf-9b81-a3d250674059",
   "metadata": {},
   "outputs": [],
   "source": [
    "plt.figure(figsize = (12,6))\n",
    "plt.imshow(np.abs(data), cmap='magma', vmin=0, vmax = 3)\n",
    "plt.colorbar();"
   ]
  },
  {
   "cell_type": "code",
   "execution_count": null,
   "id": "f4602c9a-cfa0-4087-92b3-3248afa2712c",
   "metadata": {},
   "outputs": [],
   "source": [
    "plt.figure(figsize = (12,6))\n",
    "plt.imshow(np.angle(data), cmap='magma', vmin=0, vmax = 3)\n",
    "plt.colorbar();"
   ]
  }
 ],
 "metadata": {
  "kernelspec": {
   "display_name": "Python 3 (ipykernel)",
   "language": "python",
   "name": "python3"
  },
  "language_info": {
   "codemirror_mode": {
    "name": "ipython",
    "version": 3
   },
   "file_extension": ".py",
   "mimetype": "text/x-python",
   "name": "python",
   "nbconvert_exporter": "python",
   "pygments_lexer": "ipython3",
   "version": "3.9.15"
  }
 },
 "nbformat": 4,
 "nbformat_minor": 5
}
